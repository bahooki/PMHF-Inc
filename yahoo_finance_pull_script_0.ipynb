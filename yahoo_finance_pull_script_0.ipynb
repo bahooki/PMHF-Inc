{
  "nbformat": 4,
  "nbformat_minor": 0,
  "metadata": {
    "colab": {
      "name": "yahoo-finance-pull-script-0.ipynb",
      "provenance": [],
      "authorship_tag": "ABX9TyPs1hvqamasWvaAnvU20LeP",
      "include_colab_link": true
    },
    "kernelspec": {
      "name": "python3",
      "display_name": "Python 3"
    },
    "language_info": {
      "name": "python"
    }
  },
  "cells": [
    {
      "cell_type": "markdown",
      "metadata": {
        "id": "view-in-github",
        "colab_type": "text"
      },
      "source": [
        "<a href=\"https://colab.research.google.com/github/Allan1212/PMHF-Inc/blob/yahoo-experiment-2/yahoo_finance_pull_script_0.ipynb\" target=\"_parent\"><img src=\"https://colab.research.google.com/assets/colab-badge.svg\" alt=\"Open In Colab\"/></a>"
      ]
    },
    {
      "cell_type": "code",
      "execution_count": 2,
      "metadata": {
        "colab": {
          "base_uri": "https://localhost:8080/"
        },
        "id": "dzBlRGfBS5DT",
        "outputId": "a21334cb-37eb-40ab-b65b-718b29a406a3"
      },
      "outputs": [
        {
          "output_type": "stream",
          "name": "stdout",
          "text": [
            "Collecting YahooFinancials\n",
            "  Downloading yahoofinancials-1.6.tar.gz (27 kB)\n",
            "Requirement already satisfied: beautifulsoup4 in /usr/local/lib/python3.7/dist-packages (from YahooFinancials) (4.6.3)\n",
            "Requirement already satisfied: pytz in /usr/local/lib/python3.7/dist-packages (from YahooFinancials) (2018.9)\n",
            "Building wheels for collected packages: YahooFinancials\n",
            "  Building wheel for YahooFinancials (setup.py) ... \u001b[?25l\u001b[?25hdone\n",
            "  Created wheel for YahooFinancials: filename=yahoofinancials-1.6-py3-none-any.whl size=15190 sha256=9368ed43e9874265f270b6ed36ac8515fa40198a4fed6078ad5eee29629e1de4\n",
            "  Stored in directory: /root/.cache/pip/wheels/4b/63/46/e7110bfee88685fe69e338d1b14d1748921862aa57b6705b60\n",
            "Successfully built YahooFinancials\n",
            "Installing collected packages: YahooFinancials\n",
            "Successfully installed YahooFinancials-1.6\n"
          ]
        }
      ],
      "source": [
        "pip install YahooFinancials"
      ]
    },
    {
      "cell_type": "code",
      "source": [
        "from yahoofinancials import YahooFinancials"
      ],
      "metadata": {
        "id": "6RiwiR1NTXHf"
      },
      "execution_count": 3,
      "outputs": []
    },
    {
      "cell_type": "code",
      "source": [
        "ticker = 'GOOG'"
      ],
      "metadata": {
        "id": "MP5UHWwuTeLE"
      },
      "execution_count": 4,
      "outputs": []
    },
    {
      "cell_type": "code",
      "source": [
        "yahoo_financials = YahooFinancials(ticker)\n",
        "prices = yahoo_financials.get_historical_price_data('2021-11-29', '2021-12-03', 'daily')\n",
        "print(prices)"
      ],
      "metadata": {
        "colab": {
          "base_uri": "https://localhost:8080/"
        },
        "id": "8eDTwASZT6F5",
        "outputId": "c82ba75e-9930-49f6-aad2-c3785a2722aa"
      },
      "execution_count": 5,
      "outputs": [
        {
          "output_type": "stream",
          "name": "stdout",
          "text": [
            "{'GOOG': {'eventsData': {}, 'firstTradeDate': {'formatted_date': '2004-08-19', 'date': 1092922200}, 'currency': 'USD', 'instrumentType': 'EQUITY', 'timeZone': {'gmtOffset': -18000}, 'prices': [{'date': 1638196200, 'high': 2937.239990234375, 'low': 2885.969970703125, 'open': 2885.969970703125, 'close': 2922.280029296875, 'volume': 1313800, 'adjclose': 2922.280029296875, 'formatted_date': '2021-11-29'}, {'date': 1638282600, 'high': 2932.570068359375, 'low': 2841.320068359375, 'open': 2909.0048828125, 'close': 2849.0400390625, 'volume': 2079500, 'adjclose': 2849.0400390625, 'formatted_date': '2021-11-30'}, {'date': 1638369000, 'high': 2929.98291015625, 'low': 2830.0, 'open': 2884.25, 'close': 2832.360107421875, 'volume': 1423800, 'adjclose': 2832.360107421875, 'formatted_date': '2021-12-01'}, {'date': 1638455400, 'high': 2893.5, 'low': 2819.639892578125, 'open': 2836.47998046875, 'close': 2875.530029296875, 'volume': 1062500, 'adjclose': 2875.530029296875, 'formatted_date': '2021-12-02'}]}}\n"
          ]
        }
      ]
    }
  ]
}